{
 "cells": [
  {
   "cell_type": "code",
   "execution_count": 50,
   "metadata": {},
   "outputs": [],
   "source": [
    "import numpy as np\n",
    "import pandas as pd"
   ]
  },
  {
   "cell_type": "code",
   "execution_count": 222,
   "metadata": {},
   "outputs": [],
   "source": [
    "def I(l):\n",
    "    s = float(np.array(l).sum())\n",
    "    res = 0\n",
    "    for i in l:\n",
    "        if i != 0:\n",
    "            res -= i/s*np.log2(i/s) \n",
    "    return res\n",
    "\n",
    "def IG_DT(data,label,depth):\n",
    "    class_list = data[label].unique()\n",
    "    n = len(data)\n",
    "    IG_col_list = []\n",
    "    feature_cols = np.delete(data.columns,-1)\n",
    "    for col in feature_cols:\n",
    "        IG_col = 0.0\n",
    "        for val in data[col].unique():\n",
    "            T =[]\n",
    "            for c in class_list:\n",
    "                T.append(len(data[(data[label]==c) & (data[col]==val)]))\n",
    "            IG_col += len(data[data[col]==val])/float(n) * I(T)\n",
    "        print(\"\\t\"*depth+\"IG \"+str(col)+\" = \",IG_col)\n",
    "        IG_col_list.append(IG_col)\n",
    "    choosen_col = feature_cols[np.array(IG_col_list).argmin()]\n",
    "    if (np.array(IG_col_list).max() >0):\n",
    "        print (\"\\t\"*depth+'Choosen: ',choosen_col)\n",
    "        if (len(data.columns) > 2):\n",
    "            for val in data[choosen_col].unique():\n",
    "                print(\"\\t\"*depth+choosen_col+ \" = \" +str(val))\n",
    "                IG_DT(data[data[choosen_col]==val].drop(choosen_col,axis=1),label,depth+1)\n",
    "        elif (len(data.columns) == 2):\n",
    "            print(\"\\t\"*depth+'Reach leaf node, value = '+np.array_str(data[label].unique()))\n",
    "    else:\n",
    "        print(\"\\t\"*depth+'Reach leaf node, value = '+np.array_str(data[label].unique()))\n",
    "        #print()\n"
   ]
  },
  {
   "cell_type": "code",
   "execution_count": 223,
   "metadata": {
    "scrolled": true
   },
   "outputs": [
    {
     "name": "stdout",
     "output_type": "stream",
     "text": [
      "        Time  Match type Court surface  Best Effort Outcome\n",
      "0    Morning      Master         Grass            1       F\n",
      "1  Afternoon  Grand slam          Clay            1       F\n",
      "2      Night    Friendly          Hard            0       F\n",
      "3  Afternoon    Friendly         Mixed            0       N\n",
      "4  Afternoon      Master          Clay            1       N\n",
      "IG Time =  0.8223219282981569\n",
      "IG Match type =  0.806037309514985\n",
      "IG Court surface =  0.30342206076708395\n",
      "IG Best Effort =  0.8957049265635535\n",
      "Choosen:  Court surface\n",
      "Court surface = Grass\n",
      "\tIG Time =  0.0\n",
      "\tIG Match type =  0.0\n",
      "\tIG Best Effort =  0.0\n",
      "\tReach leaf node, value = ['F']\n",
      "Court surface = Clay\n",
      "\tIG Time =  0.9709505944546686\n",
      "\tIG Match type =  0.5509775004326937\n",
      "\tIG Best Effort =  0.9709505944546686\n",
      "\tChoosen:  Match type\n",
      "\tMatch type = Grand slam\n",
      "\t\tIG Time =  0.9182958340544896\n",
      "\t\tIG Best Effort =  0.9182958340544896\n",
      "\t\tChoosen:  Time\n",
      "\t\tTime = Afternoon\n",
      "\t\t\tIG Best Effort =  0.9182958340544896\n",
      "\t\t\tChoosen:  Best Effort\n",
      "\t\t\tReach leaf node, value = ['F' 'N']\n",
      "\tMatch type = Master\n",
      "\t\tIG Time =  0.0\n",
      "\t\tIG Best Effort =  0.0\n",
      "\t\tReach leaf node, value = ['N']\n",
      "Court surface = Hard\n",
      "\tIG Time =  0.0\n",
      "\tIG Match type =  0.0\n",
      "\tIG Best Effort =  0.0\n",
      "\tReach leaf node, value = ['F']\n",
      "Court surface = Mixed\n",
      "\tIG Time =  0.0\n",
      "\tIG Match type =  0.0\n",
      "\tIG Best Effort =  0.0\n",
      "\tReach leaf node, value = ['N']\n"
     ]
    }
   ],
   "source": [
    "data = pd.read_csv('kt.csv')\n",
    "print(data.head())\n",
    "IG_DT(data,'Outcome',0)"
   ]
  },
  {
   "cell_type": "code",
   "execution_count": null,
   "metadata": {},
   "outputs": [],
   "source": []
  }
 ],
 "metadata": {
  "kernelspec": {
   "display_name": "Python 3",
   "language": "python",
   "name": "python3"
  },
  "language_info": {
   "codemirror_mode": {
    "name": "ipython",
    "version": 3
   },
   "file_extension": ".py",
   "mimetype": "text/x-python",
   "name": "python",
   "nbconvert_exporter": "python",
   "pygments_lexer": "ipython3",
   "version": "3.7.6"
  }
 },
 "nbformat": 4,
 "nbformat_minor": 4
}
